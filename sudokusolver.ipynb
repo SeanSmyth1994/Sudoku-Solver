{
 "cells": [
  {
   "cell_type": "code",
   "execution_count": 1,
   "metadata": {},
   "outputs": [],
   "source": [
    "# sudoku solver"
   ]
  },
  {
   "cell_type": "code",
   "execution_count": 2,
   "metadata": {},
   "outputs": [],
   "source": [
    "board = [\n",
    "    [0,0,0,0,0,0,0,7,0],\n",
    "    [0,0,0,0,5,0,8,0,1],\n",
    "    [0,0,6,4,1,0,0,3,5],\n",
    "    [6,0,7,0,0,0,5,2,0],\n",
    "    [0,0,0,2,0,9,0,0,0],\n",
    "    [0,4,1,0,0,0,6,0,9],\n",
    "    [9,7,0,0,2,1,4,0,0],\n",
    "    [1,0,5,0,3,0,0,0,0],\n",
    "    [0,8,0,0,0,0,0,0,0]\n",
    "]"
   ]
  },
  {
   "cell_type": "code",
   "execution_count": 3,
   "metadata": {},
   "outputs": [
    {
     "name": "stdout",
     "output_type": "stream",
     "text": [
      "[[0, 0, 0, 0, 0, 0, 0, 7, 0], [0, 0, 0, 0, 5, 0, 8, 0, 1], [0, 0, 6, 4, 1, 0, 0, 3, 5], [6, 0, 7, 0, 0, 0, 5, 2, 0], [0, 0, 0, 2, 0, 9, 0, 0, 0], [0, 4, 1, 0, 0, 0, 6, 0, 9], [9, 7, 0, 0, 2, 1, 4, 0, 0], [1, 0, 5, 0, 3, 0, 0, 0, 0], [0, 8, 0, 0, 0, 0, 0, 0, 0]]\n"
     ]
    }
   ],
   "source": [
    "print(board)"
   ]
  },
  {
   "cell_type": "code",
   "execution_count": 4,
   "metadata": {},
   "outputs": [],
   "source": [
    "def print_grid(board):\n",
    "    for i in range(len(board)):\n",
    "        if i % 3  == 0 and i != 0:\n",
    "            print('----------------------')\n",
    "        for j in range(len(board[0])):\n",
    "            if j % 3 == 0 and j != 0:\n",
    "                print('|', end = \"\")\n",
    "            if j == 8:\n",
    "                print(board[i][j])\n",
    "            else:\n",
    "                print(str(board[i][j]) + \" \", end =\"\")\n",
    "            \n",
    "        \n",
    "        "
   ]
  },
  {
   "cell_type": "code",
   "execution_count": 5,
   "metadata": {},
   "outputs": [
    {
     "name": "stdout",
     "output_type": "stream",
     "text": [
      "0 0 0 |0 0 0 |0 7 0\n",
      "0 0 0 |0 5 0 |8 0 1\n",
      "0 0 6 |4 1 0 |0 3 5\n",
      "----------------------\n",
      "6 0 7 |0 0 0 |5 2 0\n",
      "0 0 0 |2 0 9 |0 0 0\n",
      "0 4 1 |0 0 0 |6 0 9\n",
      "----------------------\n",
      "9 7 0 |0 2 1 |4 0 0\n",
      "1 0 5 |0 3 0 |0 0 0\n",
      "0 8 0 |0 0 0 |0 0 0\n"
     ]
    }
   ],
   "source": [
    "print_grid(board)"
   ]
  },
  {
   "cell_type": "code",
   "execution_count": 6,
   "metadata": {},
   "outputs": [],
   "source": [
    "def find_empty(bo,l):\n",
    "    for i in range(9):\n",
    "        for j in range(9):\n",
    "            if(bo[i][j] == 0):\n",
    "                l[0] = i\n",
    "                l[1] = j\n",
    "                return True\n",
    "    return False"
   ]
  },
  {
   "cell_type": "code",
   "execution_count": 7,
   "metadata": {},
   "outputs": [],
   "source": [
    "#follow the rules of sodoku: no repeating numbers in row/col or box"
   ]
  },
  {
   "cell_type": "code",
   "execution_count": 8,
   "metadata": {},
   "outputs": [],
   "source": [
    "def used_in_row(bo,row,num):\n",
    "    for i in range(9):\n",
    "        if(bo[row][i] == num):\n",
    "            return True\n",
    "    return False"
   ]
  },
  {
   "cell_type": "code",
   "execution_count": 9,
   "metadata": {},
   "outputs": [],
   "source": [
    "def used_in_col(bo,col,num):\n",
    "    for i in range(9):\n",
    "        if(bo[i][col] == num):\n",
    "            return True\n",
    "    return False"
   ]
  },
  {
   "cell_type": "code",
   "execution_count": 10,
   "metadata": {},
   "outputs": [],
   "source": [
    "def used_in_box(bo,row,col,num):\n",
    "    for i in range(3):\n",
    "        for j in range(3):\n",
    "            if(bo[row + i][col + j] == num):\n",
    "                return True\n",
    "    return False"
   ]
  },
  {
   "cell_type": "code",
   "execution_count": 11,
   "metadata": {},
   "outputs": [],
   "source": [
    "# is location of a number valid??\n",
    "\n",
    "def safe(bo,row,col,num):\n",
    "    \n",
    "    return not used_in_box(bo,row - row%3,col - col%3,num) and not used_in_row(bo,row,num) and not used_in_col(bo,col,num)\n",
    "    "
   ]
  },
  {
   "cell_type": "code",
   "execution_count": 12,
   "metadata": {},
   "outputs": [],
   "source": [
    "def solve(bo):\n",
    "    \n",
    "    l=[0,0]\n",
    "    \n",
    "    if(not find_empty(bo,l)):\n",
    "        return True\n",
    "    \n",
    "    row = l[0]\n",
    "    col = l[1]\n",
    "    \n",
    "    for num in range(1,10):\n",
    "        \n",
    "        if(safe(bo,row,col,num)):\n",
    "            \n",
    "            bo[row][col] = num\n",
    "        \n",
    "            if(solve(bo)):\n",
    "                return True\n",
    "            bo[row][col] = 0\n",
    "    return False"
   ]
  },
  {
   "cell_type": "code",
   "execution_count": null,
   "metadata": {},
   "outputs": [],
   "source": []
  },
  {
   "cell_type": "code",
   "execution_count": 13,
   "metadata": {},
   "outputs": [
    {
     "name": "stdout",
     "output_type": "stream",
     "text": [
      "5 1 9 |3 8 6 |2 7 4\n",
      "7 3 4 |9 5 2 |8 6 1\n",
      "8 2 6 |4 1 7 |9 3 5\n",
      "----------------------\n",
      "6 9 7 |1 4 8 |5 2 3\n",
      "3 5 8 |2 6 9 |1 4 7\n",
      "2 4 1 |5 7 3 |6 8 9\n",
      "----------------------\n",
      "9 7 3 |6 2 1 |4 5 8\n",
      "1 6 5 |8 3 4 |7 9 2\n",
      "4 8 2 |7 9 5 |3 1 6\n"
     ]
    }
   ],
   "source": [
    "if(solve(board)):\n",
    "    print_grid(board)"
   ]
  }
 ],
 "metadata": {
  "kernelspec": {
   "display_name": "Python 3",
   "language": "python",
   "name": "python3"
  },
  "language_info": {
   "codemirror_mode": {
    "name": "ipython",
    "version": 3
   },
   "file_extension": ".py",
   "mimetype": "text/x-python",
   "name": "python",
   "nbconvert_exporter": "python",
   "pygments_lexer": "ipython3",
   "version": "3.7.3"
  }
 },
 "nbformat": 4,
 "nbformat_minor": 2
}
